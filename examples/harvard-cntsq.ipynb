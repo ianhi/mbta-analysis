{
 "cells": [
  {
   "cell_type": "code",
   "execution_count": null,
   "id": "5d5fc44b-6ebe-4c59-85a4-47c3fdeb5a99",
   "metadata": {
    "tags": []
   },
   "outputs": [],
   "source": [
    "%matplotlib ipympl\n",
    "import matplotlib.pyplot as plt\n",
    "import numpy as np\n",
    "import pandas as pd\n",
    "\n",
    "from mbta_analysis import (\n",
    "    load_months,\n",
    "    plot_travel_times_by_chunked_departure,\n",
    "    travel_time,\n",
    ")\n",
    "from mbta_analysis._util import to_min"
   ]
  },
  {
   "cell_type": "code",
   "execution_count": null,
   "id": "c4c52e0c-ba3d-4e52-b33e-6c184c25a876",
   "metadata": {
    "tags": []
   },
   "outputs": [],
   "source": [
    "fname = [\n",
    "    f\"data/MBTA_Bus_Arrival_Departure_Times_2022/MBTA-Bus-Arrival-Departure-Times_2022-0{m}.csv\"\n",
    "    for m in range(5, 10)\n",
    "]"
   ]
  },
  {
   "cell_type": "code",
   "execution_count": null,
   "id": "533a11eb-8265-4fd1-aa7d-2c76074cf839",
   "metadata": {
    "tags": []
   },
   "outputs": [],
   "source": [
    "df = load_months(fname)"
   ]
  },
  {
   "cell_type": "code",
   "execution_count": null,
   "id": "43b4abbd-bb0a-4e32-b601-890e7151eabb",
   "metadata": {
    "tags": []
   },
   "outputs": [],
   "source": [
    "tt = travel_time(df, 1, (\"hhgat\", \"cntsq\"))"
   ]
  },
  {
   "cell_type": "code",
   "execution_count": null,
   "id": "522b094b-4eed-4fca-bb67-adf27278d978",
   "metadata": {
    "tags": []
   },
   "outputs": [],
   "source": [
    "plot_travel_times_by_chunked_departure(tt.loc[\"01\", \"Outbound\"], label=\"Outbound\")\n",
    "plot_travel_times_by_chunked_departure(tt.loc[\"01\", \"Inbound\"], label=\"Inbound\")\n",
    "plt.legend()"
   ]
  },
  {
   "cell_type": "code",
   "execution_count": null,
   "id": "c3fe8114-8e36-4b2d-937a-5ffdedfe3c21",
   "metadata": {
    "tags": []
   },
   "outputs": [],
   "source": [
    "trains = pd.read_csv(\"data/TravelTimes_2022/2022-Q3_HRTravelTimes.csv\")"
   ]
  },
  {
   "cell_type": "code",
   "execution_count": null,
   "id": "b05cf325-df40-4c2c-89ec-2759d75b2d11",
   "metadata": {
    "tags": []
   },
   "outputs": [],
   "source": [
    "trains[\"route_id\"].unique()"
   ]
  },
  {
   "cell_type": "code",
   "execution_count": null,
   "id": "92e27e35-9f10-44c1-908e-181a33f134b1",
   "metadata": {
    "tags": []
   },
   "outputs": [],
   "source": [
    "red = trains[trains[\"route_id\"] == \"Red\"]\n",
    "red"
   ]
  },
  {
   "cell_type": "code",
   "execution_count": null,
   "id": "a2fe1714-65fb-4a53-862b-f1f0d34531c8",
   "metadata": {
    "tags": []
   },
   "outputs": [],
   "source": [
    "day > \"2022-07-16\""
   ]
  },
  {
   "cell_type": "code",
   "execution_count": null,
   "id": "7bb4e5d6-0e39-4776-9492-7e67e22e7840",
   "metadata": {
    "tags": []
   },
   "outputs": [],
   "source": [
    "cnt_to_hrvd = red[(red[\"from_stop_id\"] == 70070) & (red[\"to_stop_id\"] == 70068)]\n",
    "headways_pre_FTA = []\n",
    "headways_post_FTA = []\n",
    "for day in cnt_to_hrvd[\"service_date\"].unique():\n",
    "    day_idx = cnt_to_hrvd[\"service_date\"] == day\n",
    "    fd = cnt_to_hrvd[day_idx]\n",
    "    end_times = fd[\"end_time_sec\"].values\n",
    "    sort_idx = np.argsort(end_times)\n",
    "    if day > \"2022-07-16\":\n",
    "        headways_post_FTA.extend(np.diff(end_times[sort_idx]))\n",
    "    else:\n",
    "        headways_pre_FTA.extend(np.diff(end_times[sort_idx]))\n",
    "headways_pre_FTA = np.asarray(headways_pre_FTA)\n",
    "headways_post_FTA = np.asarray(headways_post_FTA)"
   ]
  },
  {
   "cell_type": "code",
   "execution_count": null,
   "id": "bf1ec3fa-1139-467c-a8e7-1e9567480201",
   "metadata": {
    "tags": []
   },
   "outputs": [],
   "source": [
    "plt.figure()\n",
    "_ = plt.hist(headways_pre_FTA / 60, bins=np.arange(0, 50), density=True)\n",
    "_ = plt.hist(headways_post_FTA / 60, bins=np.arange(0, 50), alpha=0.5, density=True)\n",
    "plt.xlabel(\"Headway (minutes)\")\n",
    "plt.ylabel(\"Number of occurences\")\n",
    "plt.title(\"Northbound Headways at Harvard Square\")"
   ]
  },
  {
   "cell_type": "code",
   "execution_count": null,
   "id": "5abf585e-653a-456a-9677-d64497f01056",
   "metadata": {},
   "outputs": [],
   "source": [
    "end_times[sort_idx]"
   ]
  },
  {
   "cell_type": "code",
   "execution_count": null,
   "id": "a675b56c-77e2-452e-89d1-9dc689df3673",
   "metadata": {
    "tags": []
   },
   "outputs": [],
   "source": [
    "end_times"
   ]
  },
  {
   "cell_type": "code",
   "execution_count": null,
   "id": "234775b8-b91a-4bb1-95b2-fd946e05a0ff",
   "metadata": {},
   "outputs": [],
   "source": []
  },
  {
   "cell_type": "code",
   "execution_count": null,
   "id": "c421ed0f-d1c2-498f-a522-332665db2af0",
   "metadata": {},
   "outputs": [],
   "source": [
    "fd[\"end_time_sec\"].diff()"
   ]
  },
  {
   "cell_type": "code",
   "execution_count": null,
   "id": "0cfced51-afdc-4246-a540-a3d9f590bf7b",
   "metadata": {
    "tags": []
   },
   "outputs": [],
   "source": [
    "plt.figure()\n",
    "day_idx = red[\"service_date\"] == \"2022-09-30\"\n",
    "fd = red[day_idx]\n",
    "headways = fd[fd[\"to_stop_id\"] == 70068][\"end_time_sec\"].diff().dropna() / 60\n",
    "_ = plt.hist(headways, bins=\"auto\")"
   ]
  },
  {
   "cell_type": "code",
   "execution_count": null,
   "id": "a3fdcac6-9605-4c98-92af-5b7216e56d23",
   "metadata": {
    "tags": []
   },
   "outputs": [],
   "source": [
    "# Harvard to central\n",
    "cnt_to_hrvd = red[(red[\"from_stop_id\"] == 70070) & (red[\"to_stop_id\"] == 70068)]\n",
    "hrvd_to_cnt = red[(red[\"from_stop_id\"] == 70067) & (red[\"to_stop_id\"] == 70069)]\n",
    "# gb = cnt_to_hrvd[[\"service_date\", \"travel_time_sec\"]].groupby(\"service_date\")"
   ]
  },
  {
   "cell_type": "code",
   "execution_count": null,
   "id": "cb65d2e9-70ad-4305-8bf1-54afc2e1556f",
   "metadata": {
    "tags": []
   },
   "outputs": [],
   "source": [
    "def set_index(df, cols=[\"service_date\"]):\n",
    "    df.index = pd.to_datetime(df[\"service_date\"])\n",
    "    return df.drop(multi_index_cols, axis=\"columns\").sort_index()\n",
    "\n",
    "\n",
    "red_line_outbound = set_index(cnt_to_hrvd[[\"service_date\", \"travel_time_sec\"]]).groupby(\n",
    "    \"service_date\"\n",
    ")\n",
    "\n",
    "red_line_inbound = set_index(hrvd_to_cnt[[\"service_date\", \"travel_time_sec\"]]).groupby(\n",
    "    \"service_date\"\n",
    ")"
   ]
  },
  {
   "cell_type": "code",
   "execution_count": null,
   "id": "8b79800c-afdc-4e18-b0f2-cc1cdc0781e0",
   "metadata": {
    "tags": []
   },
   "outputs": [],
   "source": [
    "bus_outbound_gb = (\n",
    "    tt[\"01\", \"Outbound\"].astype(\"timedelta64[s]\").astype(float) / 60\n",
    ").groupby(\"service_date\")\n",
    "bus_inbound_gb = (\n",
    "    tt[\"01\", \"Inbound\"].astype(\"timedelta64[s]\").astype(float) / 60\n",
    ").groupby(\"service_date\")"
   ]
  },
  {
   "cell_type": "code",
   "execution_count": null,
   "id": "9cd6ab17-2acc-4ad1-9d6e-8e8cf950fc42",
   "metadata": {
    "tags": []
   },
   "outputs": [],
   "source": [
    "red_line_inbound.quantile(0.5).index\n",
    "red_line_inbound.quantile(0.25).shape\n",
    "red_line_inbound.quantile(0.75)\n",
    "plt.figure()\n",
    "plt.fill_between(\n",
    "    red_line_inbound.quantile(0.5).index,\n",
    "    red_line_inbound.quantile(0.25).values.squeeze() / 60,\n",
    "    red_line_inbound.quantile(0.75).values.squeeze() / 60,\n",
    "    color=\"#968a68\",\n",
    "    alpha=0.2,\n",
    ")"
   ]
  },
  {
   "cell_type": "code",
   "execution_count": null,
   "id": "27b924fc-e27f-4e3c-b6ba-df7ca89c63e7",
   "metadata": {
    "tags": []
   },
   "outputs": [],
   "source": [
    "RED = \"#da291c\"\n",
    "YELLOW = \"#ffc72c\"\n",
    "import matplotlib.dates as mdates\n",
    "\n",
    "fig, axs = plt.subplots(\n",
    "    1, 2, sharey=True, sharex=True, layout=\"constrained\", figsize=(9, 5)\n",
    ")\n",
    "\n",
    "\n",
    "myFmt = mdates.DateFormatter(\"%m-%d\")\n",
    "\n",
    "fs = 16\n",
    "# Central to Harvard\n",
    "axs[0].set_title(\"Central To Harvard\")\n",
    "axs[0].plot(bus_outbound_gb.mean(), \"o-\", color=YELLOW, label=\"1 bus\")\n",
    "axs[0].fill_between(\n",
    "    bus_outbound_gb.quantile(0.5).index,\n",
    "    bus_outbound_gb.quantile(0.25),\n",
    "    bus_outbound_gb.quantile(0.75),\n",
    "    color=\"#968a68\",\n",
    "    alpha=0.2,\n",
    ")\n",
    "axs[0].plot(red_line_outbound.mean() / 60, \"o-\", color=RED, label=\"Red Line\")\n",
    "axs[0].fill_between(\n",
    "    red_line_outbound.quantile(0.5).index,\n",
    "    red_line_outbound.quantile(0.25).values.squeeze() / 60,\n",
    "    red_line_outbound.quantile(0.75).values.squeeze() / 60,\n",
    "    color=\"#968a68\",\n",
    "    alpha=0.2,\n",
    ")\n",
    "axs[0].xaxis.set_major_formatter(myFmt)\n",
    "axs[0].legend()\n",
    "# axs[0].legend(loc=\"upper right\", bbox_to_anchor=(-.1,0.9) )\n",
    "axs[0].set_ylabel(\"Minutes\")\n",
    "\n",
    "# Harvard to Central\n",
    "axs[1].set_title(\"Harvard to Central\")\n",
    "axs[1].plot(bus_inbound_gb.mean(), \"o-\", color=YELLOW, label=\"1 bus\")\n",
    "# axs[1].axhline(bus_outbound_gb.mean().mean(),'o-', color='#ffc72c', label='1 bus')\n",
    "axs[1].plot(red_line_inbound.mean() / 60, \"o-\", color=RED, label=\"Red Line\")\n",
    "axs[1].fill_between(\n",
    "    bus_inbound_gb.quantile(0.5).index,\n",
    "    bus_inbound_gb.quantile(0.25),\n",
    "    bus_inbound_gb.quantile(0.75),\n",
    "    color=\"#968a68\",\n",
    "    alpha=0.2,\n",
    ")\n",
    "axs[1].fill_between(\n",
    "    red_line_inbound.quantile(0.5).index,\n",
    "    red_line_inbound.quantile(0.25).values.squeeze() / 60,\n",
    "    red_line_inbound.quantile(0.75).values.squeeze() / 60,\n",
    "    color=\"#968a68\",\n",
    "    alpha=0.2,\n",
    ")\n",
    "\n",
    "axs[0].set_ylabel(\"Minutes\", fontsize=fs)\n",
    "axs[0].set_xlim([np.datetime64(\"2022-09-01\"), np.datetime64(\"2022-09-29\")])\n",
    "axs[0].set_xlim([np.datetime64(\"2022-09-01\"), np.datetime64(\"2022-09-29\")])\n",
    "axs[0].xaxis.set_major_formatter(myFmt)\n",
    "# axhlines for comparisons\n",
    "axs[0].axhline(\n",
    "    bus_outbound_gb.mean().mean(),\n",
    "    0,\n",
    "    2,\n",
    "    linestyle=\"--\",\n",
    "    alpha=0.6,\n",
    "    color=YELLOW,\n",
    "    label=\"1 bus\",\n",
    "    clip_on=False,\n",
    ")\n",
    "axs[1].axhline(\n",
    "    bus_outbound_gb.mean().mean(),\n",
    "    linestyle=\"--\",\n",
    "    alpha=0.6,\n",
    "    color=YELLOW,\n",
    "    clip_on=False,\n",
    ")\n",
    "\n",
    "axs[0].axhline(\n",
    "    bus_inbound_gb.mean().mean(),\n",
    "    0,\n",
    "    2,\n",
    "    linestyle=\"--\",\n",
    "    alpha=0.6,\n",
    "    color=YELLOW,\n",
    "    clip_on=False,\n",
    ")\n",
    "axs[1].axhline(\n",
    "    bus_inbound_gb.mean().mean(),\n",
    "    linestyle=\"--\",\n",
    "    alpha=0.6,\n",
    "    color=YELLOW,\n",
    "    label=\"1 bus\",\n",
    ")\n",
    "fig.supxlabel(\"Date\", fontsize=fs)\n",
    "# plt.savefig(\"central-harvard-bus-vs-redline.png\")\n",
    "# axs[1].axhline(bus_outbound_gb.mean().mean(),linestyle='--',alpha=.6, color='#ffc72c', label='1 bus')\n",
    "# plt.axhline("
   ]
  },
  {
   "cell_type": "code",
   "execution_count": null,
   "id": "f93e1b42-efd0-498a-a38a-e67c32798207",
   "metadata": {
    "tags": []
   },
   "outputs": [],
   "source": [
    "plt.figure()\n",
    "# plt.plot(red_line_mean)\n",
    "bus_groupby = tt[\"01\", \"Outbound\"].groupby(\"service_date\")\n",
    "# .astype('timedelta64[s]').astype(float)/60\n",
    "plt.plot(bus_mean)\n",
    "plt.plot(bus_mean)\n",
    "# plt.plot(tt['01', 'Outbound'].groupby(\"service_date\").mean()*10**-9/60)\n",
    "# plt.plot(\n",
    "# plt"
   ]
  },
  {
   "cell_type": "code",
   "execution_count": null,
   "id": "6cbb9231-225a-4012-aa65-460a51b4010b",
   "metadata": {
    "tags": []
   },
   "outputs": [],
   "source": [
    "(red[\"from_stop_id\"] == 70067) & (red[\"to_stop_id\"] == 70069)"
   ]
  },
  {
   "cell_type": "markdown",
   "id": "a3b9f4af-2162-4873-928a-e56ba9cf0ef4",
   "metadata": {},
   "source": [
    "\n",
    "\t\t\t\t\"stop_name\": \"Harvard\",\n",
    "\t\t\t\t\"branches\": [\"A\", \"B\"],\n",
    "\t\t\t\t\"station\": \"place-harsq\",\n",
    "\t\t\t\t\"order\": 4,\n",
    "\t\t\t\t\"stops\": {\n",
    "\t\t\t\t\t\"0\": [\"70068\"],\n",
    "\t\t\t\t\t\"1\": [\"70067\"]\n",
    "\t\t\t\t}\n",
    "\t\t\t}, {\n",
    "            \t\t\t\t\"stop_name\": \"Central\",\n",
    "\t\t\t\t\"branches\": [\"A\", \"B\"],\n",
    "\t\t\t\t\"station\": \"place-cntsq\",\n",
    "\t\t\t\t\"order\": 5,\n",
    "\t\t\t\t\"stops\": {\n",
    "\t\t\t\t\t\"0\": [\"70070\"],\n",
    "\t\t\t\t\t\"1\": [\"70069\"]\n",
    "\t\t\t\t}\n",
    "\t\t\t}, {"
   ]
  },
  {
   "cell_type": "code",
   "execution_count": null,
   "id": "1afd1a61-10a6-4f6e-ae63-91b62126b626",
   "metadata": {
    "tags": []
   },
   "outputs": [],
   "source": [
    "cnt_to_hrvd = red[(red[\"from_stop_id\"] == 70070) & (red[\"to_stop_id\"] == 70068)]\n",
    "cnt_to_hrvd"
   ]
  },
  {
   "cell_type": "code",
   "execution_count": null,
   "id": "1a2cab65-118c-446b-89bd-43da1ebfc4e7",
   "metadata": {},
   "outputs": [],
   "source": []
  }
 ],
 "metadata": {
  "kernelspec": {
   "display_name": "Python 3 (ipykernel)",
   "language": "python",
   "name": "python3"
  },
  "language_info": {
   "codemirror_mode": {
    "name": "ipython",
    "version": 3
   },
   "file_extension": ".py",
   "mimetype": "text/x-python",
   "name": "python",
   "nbconvert_exporter": "python",
   "pygments_lexer": "ipython3",
   "version": "3.10.6"
  }
 },
 "nbformat": 4,
 "nbformat_minor": 5
}
