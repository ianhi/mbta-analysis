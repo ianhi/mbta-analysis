{
 "cells": [
  {
   "cell_type": "markdown",
   "id": "cab54fd6-02da-4141-ace2-5e1af0aa076f",
   "metadata": {},
   "source": [
    "# 77 Travel Times before and after bus lane\n",
    "In november of 2021 bus lanes were added to Mass Ave between Dudley Street and Alewife Brook Parkway (see https://www.cambridgema.gov/CDD/Transportation/regionalplanning/masstransit/buspriority). This notebook will compare bus travel times before and after their implementation. Unfortunately this all takes place in the backdrop of covid which undoubtedbly has had a large effect on bus ridership and traffic on the roads. This notebook will make some plots and include some attempts a controls. However, take care to not draw casual conclusions from the contents of this notebook, without more rigorous statistical analysis we can't claim anything firm.\n",
    "\n",
    "This whole endeavour was inspired by https://twitter.com/PetruSofio/status/1508555535360180230"
   ]
  },
  {
   "cell_type": "code",
   "execution_count": null,
   "id": "631db259-e182-451c-8aa7-e5584fe581b7",
   "metadata": {
    "tags": []
   },
   "outputs": [],
   "source": [
    "import matplotlib.pyplot as plt\n",
    "import pandas as pd\n",
    "\n",
    "from mbta_analysis import (\n",
    "    load_months,\n",
    "    plot_travel_times_by_chunked_departure,\n",
    "    travel_time,\n",
    ")\n",
    "from mbta_analysis._util import to_min"
   ]
  },
  {
   "cell_type": "code",
   "execution_count": null,
   "id": "f2c6c134-2782-4e2b-a71b-37e2350aa0c4",
   "metadata": {
    "tags": []
   },
   "outputs": [],
   "source": [
    "fname = \"data/input/2022/2022_01_SBM.csv\"\n",
    "df = load_months(fname)"
   ]
  },
  {
   "cell_type": "code",
   "execution_count": null,
   "id": "f40e293b-cef1-4a3d-a657-b10bdea92fb6",
   "metadata": {
    "tags": []
   },
   "outputs": [],
   "source": [
    "# basic usage of travel time. For a single route\n",
    "tt = travel_time(df, 1, (\"hynes\", \"cntsq\"))\n",
    "tt"
   ]
  },
  {
   "cell_type": "code",
   "execution_count": null,
   "id": "d7a3a163-b500-487e-be7c-942901e0971f",
   "metadata": {
    "tags": []
   },
   "outputs": [],
   "source": [
    "# making a super basic plot\n",
    "# This is the median time with shading for the 25th and 75th quantiles\n",
    "plot_travel_times_by_chunked_departure(tt.loc[\"01\", \"Outbound\"])\n",
    "plot_travel_times_by_chunked_departure(tt.loc[\"01\", \"Inbound\"])"
   ]
  },
  {
   "cell_type": "markdown",
   "id": "afee0ab3-35c8-4cd3-82ac-469ded22dd74",
   "metadata": {},
   "source": [
    "## Adding more months\n",
    "\n",
    "Of course we can't really draw any conclusions from that. There are way to many other variables for a time point to time point comparison to be meaningful. So we need to at the very least compare to another bus route in the same time period that didn't get a bus lane. Unfortunately we definitely can't also compare to the same route in different years because it's unclear how Covid would impact that.\n",
    "\n",
    "And the same caveat as in the intro applies here - no drawing big conclusions! We still haven't done any proper statistics."
   ]
  },
  {
   "cell_type": "code",
   "execution_count": null,
   "id": "0281b42c-7587-48fd-8065-2cdc07615964",
   "metadata": {
    "tags": []
   },
   "outputs": [],
   "source": [
    "# loading more months so we can show the difference\n",
    "files = [\n",
    "    \"data/input/2022/2022_01_SBM.csv\",\n",
    "    \"data/input/2022/2022_02_SBM.csv\",\n",
    "    \"data/input/2021/MBTA-Bus-Arrival-Departure-Times_2021-09.csv\",\n",
    "    \"data/input/2021/MBTA-Bus-Arrival-Departure-Times_2021-10.csv\",\n",
    "]\n",
    "df = load_months(files)"
   ]
  },
  {
   "cell_type": "code",
   "execution_count": null,
   "id": "6d5d789b-51d0-48bd-ad17-499339e12d46",
   "metadata": {
    "tags": []
   },
   "outputs": [],
   "source": [
    "df"
   ]
  },
  {
   "cell_type": "code",
   "execution_count": null,
   "id": "498c6605-3cf8-442b-951e-65aac9ae2d06",
   "metadata": {
    "tags": []
   },
   "outputs": [],
   "source": [
    "%%time\n",
    "# compute each of the diffs we are interested in\n",
    "tt = travel_time(df, [1, 77], [(\"hynes\", \"cntsq\"), (\"portr\", \"alwpk\")])"
   ]
  },
  {
   "cell_type": "code",
   "execution_count": null,
   "id": "5f613691-06db-454e-8c0c-d0d4a132d24e",
   "metadata": {
    "tags": []
   },
   "outputs": [],
   "source": [
    "tt"
   ]
  },
  {
   "cell_type": "code",
   "execution_count": null,
   "id": "ccf83a63-fa46-4a6f-a998-9c24da2871d3",
   "metadata": {
    "tags": []
   },
   "outputs": [],
   "source": [
    "ylims = [4, 14]\n",
    "label_fs = 14\n",
    "title_fs = 16\n",
    "fig, axd = plt.subplot_mosaic(\n",
    "    \"\"\"\n",
    "    AAC\n",
    "    BBC\n",
    "    \"\"\",\n",
    "    figsize=(10, 6),\n",
    "    layout=\"constrained\",\n",
    ")\n",
    "ax = axd[\"A\"]\n",
    "plt.sca(ax)\n",
    "\n",
    "ax.set_ylim(ylims)\n",
    "\n",
    "ax.set_title(\"77 Bus - Porter to Alewife - Priority Lane added\", fontsize=title_fs)\n",
    "plot_travel_times_by_chunked_departure(\n",
    "    tt.loc[\"77\", \"Outbound\", :\"2022-01-01\"], label=\"Before Bus Lanes\"\n",
    ")\n",
    "plot_travel_times_by_chunked_departure(\n",
    "    tt.loc[\"77\", \"Outbound\", \"2022-01-01\":], label=\"After Bus Lanes\"\n",
    ")\n",
    "ax.legend()\n",
    "\n",
    "ax = axd[\"B\"]\n",
    "ax.set_ylim(ylims)\n",
    "plt.sca(ax)\n",
    "plot_travel_times_by_chunked_departure(\n",
    "    tt.loc[\"01\", \"Outbound\", :\"2022-01-01\"], label=\"Sept - Oct 2021\"\n",
    ")\n",
    "plot_travel_times_by_chunked_departure(\n",
    "    tt.loc[\"01\", \"Outbound\", \"2022-01-01\":], label=\"2022\"\n",
    ")\n",
    "ax.legend()\n",
    "ax.set_title(\"1 Bus - Hynes to Central - No bus priority Lane\", fontsize=title_fs)\n",
    "ax.set_xlabel(\"Hour of day\", fontsize=label_fs)\n",
    "\n",
    "ax = axd[\"C\"]\n",
    "ax.axhline(0, color=\"k\", alpha=0.65)\n",
    "ax.plot(\n",
    "    to_min(\n",
    "        pd.Series(\n",
    "            tt.loc[\"01\", \"Outbound\"][\"2021-12-31\":].groupby(\"scheduled-chunked\").mean()\n",
    "            - tt.loc[\"01\", \"Outbound\"][:\"2021-12-31\":]\n",
    "            .groupby(\"scheduled-chunked\")\n",
    "            .mean()\n",
    "        )\n",
    "    ),\n",
    "    color=\"C4\",\n",
    "    label=\"1 Bus\",\n",
    ")\n",
    "ax.plot(\n",
    "    to_min(\n",
    "        pd.Series(\n",
    "            tt.loc[\"77\", \"Outbound\"][\"2021-12-31\":].groupby(\"scheduled-chunked\").mean()\n",
    "            - tt.loc[\"77\", \"Outbound\"][:\"2021-12-31\":]\n",
    "            .groupby(\"scheduled-chunked\")\n",
    "            .mean()\n",
    "        )\n",
    "    ),\n",
    "    color=\"C3\",\n",
    "    label=\"77 Bus\",\n",
    ")\n",
    "ax.legend()\n",
    "ax.set_title(\"Difference\", fontsize=title_fs)\n",
    "ax.set_xlabel(\"Hour of day\", fontsize=label_fs)\n",
    "ax.yaxis.tick_right()\n",
    "ax.yaxis.set_label_position(\"right\")\n",
    "ax.set_ylabel(\"Δt (min)\", fontsize=label_fs)\n",
    "fig.supylabel(\"Avg Travel Time (minutes)\", fontsize=label_fs)\n",
    "plt.savefig(\"77-and-1-sept-v-jan.png\", facecolor=\"white\")"
   ]
  },
  {
   "cell_type": "markdown",
   "id": "675730fe-45cb-4c96-acc5-5ebd064f10f1",
   "metadata": {},
   "source": [
    "## Takeaways\n",
    "\n",
    "Again - we must do real statistics to make really firm claims - but that certainly looks good. Naively there was some baseline improvment due to other factors and the bus lanes had a large effect on the morning and early evening commutes."
   ]
  },
  {
   "cell_type": "markdown",
   "id": "e1bd6659-43fa-4e28-9cf8-e08776157fdc",
   "metadata": {
    "tags": []
   },
   "source": [
    "### TODOs\n",
    "\n",
    "Still several improvements to make.\n",
    "\n",
    "1. Most important: propogate the noise to the difference - without that it's not super meaningful.\n",
    "2. Explain the 25.5 hour thing\n",
    "    - In the first day of the month the trips after midnight get counted for the previous day as leaving at 25 hours\n",
    "3. Stats???\n",
    "\n"
   ]
  },
  {
   "cell_type": "code",
   "execution_count": null,
   "id": "70a79e6c-98fc-4c47-974d-97ed2fea6ebf",
   "metadata": {},
   "outputs": [],
   "source": []
  }
 ],
 "metadata": {
  "kernelspec": {
   "display_name": "Python 3 (ipykernel)",
   "language": "python",
   "name": "python3"
  },
  "language_info": {
   "codemirror_mode": {
    "name": "ipython",
    "version": 3
   },
   "file_extension": ".py",
   "mimetype": "text/x-python",
   "name": "python",
   "nbconvert_exporter": "python",
   "pygments_lexer": "ipython3",
   "version": "3.9.12"
  }
 },
 "nbformat": 4,
 "nbformat_minor": 5
}
