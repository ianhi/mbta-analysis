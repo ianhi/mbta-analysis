{
 "cells": [
  {
   "cell_type": "markdown",
   "id": "1b864823-919a-4179-93f0-fda00a007a51",
   "metadata": {},
   "source": [
    "Bus data needs to be downloaded from a website\n",
    "rail: https://mbta-massdot.opendata.arcgis.com/datasets/mbta-travel-times-2022/about\n",
    "\n",
    "bus: https://mbta-massdot.opendata.arcgis.com/datasets/mbta-bus-arrival-departure-times-2022/about"
   ]
  },
  {
   "cell_type": "code",
   "execution_count": null,
   "id": "4abfe41e-1677-444a-a682-8fc15b9acf0b",
   "metadata": {},
   "outputs": [],
   "source": []
  }
 ],
 "metadata": {
  "kernelspec": {
   "display_name": "Python 3 (ipykernel)",
   "language": "python",
   "name": "python3"
  },
  "language_info": {
   "codemirror_mode": {
    "name": "ipython",
    "version": 3
   },
   "file_extension": ".py",
   "mimetype": "text/x-python",
   "name": "python",
   "nbconvert_exporter": "python",
   "pygments_lexer": "ipython3",
   "version": "3.10.6"
  }
 },
 "nbformat": 4,
 "nbformat_minor": 5
}
